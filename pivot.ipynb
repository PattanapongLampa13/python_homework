{
 "cells": [
  {
   "cell_type": "code",
   "execution_count": 2,
   "id": "5b202160-bdc9-422a-8578-e723a69ab534",
   "metadata": {},
   "outputs": [],
   "source": [
    "lt = [6, 9, 3, 7, 0, 1, 5, 2, 8]"
   ]
  },
  {
   "cell_type": "code",
   "execution_count": null,
   "id": "b1baf819-e854-44cf-a2f9-af4ffdd6bae2",
   "metadata": {},
   "outputs": [],
   "source": [
    "# ให้ทำการจัดเรียงข้อมูลใน lt จากน้อยไปหามาก ด้วย Quicksort"
   ]
  },
  {
   "cell_type": "code",
   "execution_count": 3,
   "id": "82060a62-47c6-4e92-a83a-939ed9cd84d8",
   "metadata": {},
   "outputs": [
    {
     "name": "stdout",
     "output_type": "stream",
     "text": [
      "[3, 0, 1, 5, 2] 6 [9, 7, 8]\n"
     ]
    }
   ],
   "source": [
    "pivot = lt[0]\n",
    "left = [i for i in lt if i < pivot]\n",
    "right = [i for i in lt if i > pivot]\n",
    "\n",
    "print(\"{} {} {}\".format(left, pivot, right))"
   ]
  },
  {
   "cell_type": "code",
   "execution_count": 4,
   "id": "fadd6d2e-6691-4785-b415-254ef5f30ff1",
   "metadata": {},
   "outputs": [
    {
     "name": "stdout",
     "output_type": "stream",
     "text": [
      "[0, 1, 2] 3 [5]\n"
     ]
    }
   ],
   "source": [
    "pivot_left_2 = left[0]\n",
    "left_left_2 = [i for i in left if i < pivot_left_2]\n",
    "right_left_2 = [i for i in left if i > pivot_left_2]\n",
    "\n",
    "print(\"{} {} {}\".format(left_left_2, pivot_left_2, right_left_2))"
   ]
  },
  {
   "cell_type": "code",
   "execution_count": 5,
   "id": "4f010414-5752-4d14-b411-213663ab8870",
   "metadata": {},
   "outputs": [
    {
     "name": "stdout",
     "output_type": "stream",
     "text": [
      "[7, 8] 9 []\n"
     ]
    }
   ],
   "source": [
    "pivot_right_2 = right[0]\n",
    "left_right_2 = [i for i in right if i < pivot_right_2]\n",
    "right_right_2 = [i for i in right if i > pivot_right_2]\n",
    "\n",
    "print(\"{} {} {}\".format(left_right_2, pivot_right_2, right_right_2))"
   ]
  },
  {
   "cell_type": "code",
   "execution_count": 6,
   "id": "69f1e118-6935-4b44-b09a-aa797e296fd5",
   "metadata": {},
   "outputs": [
    {
     "data": {
      "text/plain": [
       "[0, 1, 2, 3, 5, 6, 7, 8, 9]"
      ]
     },
     "execution_count": 6,
     "metadata": {},
     "output_type": "execute_result"
    }
   ],
   "source": [
    "left_left_2 + \\\n",
    "[pivot_left_2] + \\\n",
    "right_left_2 + \\\n",
    "[pivot] + \\\n",
    "left_right_2 + \\\n",
    "[pivot_right_2] + \\\n",
    "right_right_2"
   ]
  },
  {
   "cell_type": "code",
   "execution_count": null,
   "id": "aac52150-6a8d-4c2b-b950-153c29c99458",
   "metadata": {},
   "outputs": [],
   "source": []
  }
 ],
 "metadata": {
  "kernelspec": {
   "display_name": "Python 3 (ipykernel)",
   "language": "python",
   "name": "python3"
  },
  "language_info": {
   "codemirror_mode": {
    "name": "ipython",
    "version": 3
   },
   "file_extension": ".py",
   "mimetype": "text/x-python",
   "name": "python",
   "nbconvert_exporter": "python",
   "pygments_lexer": "ipython3",
   "version": "3.13.0"
  }
 },
 "nbformat": 4,
 "nbformat_minor": 5
}
