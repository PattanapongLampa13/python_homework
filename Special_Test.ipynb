{
 "cells": [
  {
   "cell_type": "code",
   "execution_count": 3,
   "id": "37c4ae0b-cbb7-4198-81dc-9d6b4e18f15b",
   "metadata": {},
   "outputs": [
    {
     "name": "stdin",
     "output_type": "stream",
     "text": [
      " 49\n"
     ]
    },
    {
     "ename": "ValueError",
     "evalue": "not enough values to unpack (expected 2, got 1)",
     "output_type": "error",
     "traceback": [
      "\u001b[1;31m---------------------------------------------------------------------------\u001b[0m",
      "\u001b[1;31mValueError\u001b[0m                                Traceback (most recent call last)",
      "Cell \u001b[1;32mIn[3], line 9\u001b[0m\n\u001b[0;32m      6\u001b[0m     \u001b[38;5;28;01mreturn\u001b[39;00m max_pos\n\u001b[0;32m      8\u001b[0m \u001b[38;5;66;03m# อ่านค่า X และ Y จากอินพุต\u001b[39;00m\n\u001b[1;32m----> 9\u001b[0m X, Y \u001b[38;5;241m=\u001b[39m \u001b[38;5;28mmap\u001b[39m(\u001b[38;5;28mint\u001b[39m, \u001b[38;5;28minput\u001b[39m()\u001b[38;5;241m.\u001b[39msplit())\n\u001b[0;32m     11\u001b[0m \u001b[38;5;66;03m# คำนวณค่าที่มากที่สุดที่กบสามารถไปถึง\u001b[39;00m\n\u001b[0;32m     12\u001b[0m result \u001b[38;5;241m=\u001b[39m max_position(X, Y)\n",
      "\u001b[1;31mValueError\u001b[0m: not enough values to unpack (expected 2, got 1)"
     ]
    }
   ],
   "source": [
    "def max_position(X, Y):\n",
    "    max_pos = 0\n",
    "    for A in range(1, X + 1):\n",
    "        B = A + (Y - 1) * X  # คำนวณตำแหน่งของกบในขั้นตอนสุดท้าย\n",
    "        max_pos = max(max_pos, B)\n",
    "    return max_pos\n",
    "\n",
    "# อ่านค่า X และ Y จากอินพุต\n",
    "X, Y = map(int, input().split())\n",
    "\n",
    "# คำนวณค่าที่มากที่สุดที่กบสามารถไปถึง\n",
    "result = max_position(X, Y)\n",
    "\n",
    "# แสดงผลลัพธ์\n",
    "print(result)"
   ]
  },
  {
   "cell_type": "code",
   "execution_count": null,
   "id": "433c4826-0b3e-47e4-a7dc-0e47f0f7bade",
   "metadata": {},
   "outputs": [],
   "source": []
  }
 ],
 "metadata": {
  "kernelspec": {
   "display_name": "Python 3 (ipykernel)",
   "language": "python",
   "name": "python3"
  },
  "language_info": {
   "codemirror_mode": {
    "name": "ipython",
    "version": 3
   },
   "file_extension": ".py",
   "mimetype": "text/x-python",
   "name": "python",
   "nbconvert_exporter": "python",
   "pygments_lexer": "ipython3",
   "version": "3.13.0"
  }
 },
 "nbformat": 4,
 "nbformat_minor": 5
}
