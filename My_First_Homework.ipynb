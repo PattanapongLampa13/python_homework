{
 "cells": [
  {
   "cell_type": "markdown",
   "id": "8993c932-bfef-4fde-a7ab-7c80e0a6bfd1",
   "metadata": {},
   "source": [
    "นาย พัฒนพงศ์ ลำภา\n",
    "\n",
    "เลขที่ 6712732113"
   ]
  },
  {
   "cell_type": "code",
   "execution_count": 5,
   "id": "0eef1e30-c8a9-4121-9c4e-cf8af682ead0",
   "metadata": {},
   "outputs": [
    {
     "name": "stdout",
     "output_type": "stream",
     "text": [
      "Hello World\n"
     ]
    }
   ],
   "source": [
    "print (\"Hello World\")"
   ]
  },
  {
   "cell_type": "code",
   "execution_count": null,
   "id": "16193936-62c6-42f5-8e49-229ec1c88f36",
   "metadata": {},
   "outputs": [],
   "source": []
  }
 ],
 "metadata": {
  "kernelspec": {
   "display_name": "Python 3 (ipykernel)",
   "language": "python",
   "name": "python3"
  },
  "language_info": {
   "codemirror_mode": {
    "name": "ipython",
    "version": 3
   },
   "file_extension": ".py",
   "mimetype": "text/x-python",
   "name": "python",
   "nbconvert_exporter": "python",
   "pygments_lexer": "ipython3",
   "version": "3.13.0"
  }
 },
 "nbformat": 4,
 "nbformat_minor": 5
}
