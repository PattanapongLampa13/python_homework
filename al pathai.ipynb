{
 "cells": [
  {
   "cell_type": "code",
   "execution_count": 7,
   "id": "4d69a7df-11d4-4926-bc37-8f9426106209",
   "metadata": {},
   "outputs": [
    {
     "name": "stdout",
     "output_type": "stream",
     "text": [
      "AG : 1\n"
     ]
    }
   ],
   "source": [
    "# ให้ทำการนำจำนวน AT ในสายอักขระของ DNA นี้\n",
    "\n",
    "dna = \"ATTCGGCTAAGGTCCTAAGGTTCCTAGGCCT\"\n",
    "count = 0\n",
    "for index in range(0, len(dna_sequence) - 1):\n",
    "    if dna[index] + dna[index+1] == \"AT\":\n",
    "        count += 1\n",
    "\n",
    "print(\"AG : {}\".format(count))"
   ]
  },
  {
   "cell_type": "code",
   "execution_count": 6,
   "id": "c5eefa7f-b496-4f85-9192-f5745cca3695",
   "metadata": {},
   "outputs": [
    {
     "name": "stdout",
     "output_type": "stream",
     "text": [
      "AG : 1\n"
     ]
    }
   ],
   "source": [
    "dna = \"ATTCGGCTAAGGTCCTAAGGTTCCTAGGCCT\"\n",
    "count = 0\n",
    "for index in range(0, len(dna_sequence) - 1):\n",
    "    if dna[index] + dna[index+1] == \"AT\":\n",
    "        count += 1\n",
    "\n",
    "print(\"AG : {}\".format(count))"
   ]
  },
  {
   "cell_type": "code",
   "execution_count": 9,
   "id": "c87aff82-12e9-4a98-9e20-8e07d35797c2",
   "metadata": {},
   "outputs": [
    {
     "name": "stdout",
     "output_type": "stream",
     "text": [
      "DNA is ATTCGGCTAAGGTCC\n",
      "RNA is AUUCGGCUAAGGUCC\n",
      "count result is {'A': 3, 'T': 4, 'C': 4, 'G': 4}\n"
     ]
    }
   ],
   "source": [
    "dna = \"ATTCGGCTAAGGTCC\"\n",
    "if len(dna) % 3 == 0:\n",
    "    count = {}\n",
    "    for i in dna:\n",
    "        if count.get(i):\n",
    "            count[i] += 1\n",
    "        else:\n",
    "            count[i] = 1\n",
    "    rna = dna.replace(\"T\", \"U\")\n",
    "    print(\"DNA is {}\".format(dna))\n",
    "    print(\"RNA is {}\".format(rna))\n",
    "    print(\"count result is {}\".format(count))"
   ]
  },
  {
   "cell_type": "code",
   "execution_count": null,
   "id": "1c06ed43-fd96-4102-8bee-ca41e79d5108",
   "metadata": {},
   "outputs": [],
   "source": []
  }
 ],
 "metadata": {
  "kernelspec": {
   "display_name": "Python 3 (ipykernel)",
   "language": "python",
   "name": "python3"
  },
  "language_info": {
   "codemirror_mode": {
    "name": "ipython",
    "version": 3
   },
   "file_extension": ".py",
   "mimetype": "text/x-python",
   "name": "python",
   "nbconvert_exporter": "python",
   "pygments_lexer": "ipython3",
   "version": "3.13.0"
  }
 },
 "nbformat": 4,
 "nbformat_minor": 5
}
