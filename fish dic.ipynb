{
 "cells": [
  {
   "cell_type": "code",
   "execution_count": 1,
   "id": "8731abff-ba9f-4ad4-b3dc-3362ec80d426",
   "metadata": {},
   "outputs": [],
   "source": [
    "marine_fish = {\n",
    "    'Tuna',\n",
    "    'Salmon',\n",
    "    'Mackerel',\n",
    "    'Cod',\n",
    "    'Snapper',\n",
    "    'Sardine',\n",
    "    'Tuna',\n",
    "    'Tuna',\n",
    "    'Salmon',\n",
    "    'Mackerel',\n",
    "    'Cod',\n",
    "    'Snapper',\n",
    "    'Sardine',\n",
    "    'Tuna',  \n",
    "    'Tuna',\n",
    "    'Salmon',\n",
    "    'Mackerel',\n",
    "    'Cod',\n",
    "    'Snapper',\n",
    "    'Sardine',\n",
    "    'Tuna'\n",
    "}"
   ]
  },
  {
   "cell_type": "code",
   "execution_count": 4,
   "id": "7ed99a3f-5410-49eb-8eda-f69752d5024c",
   "metadata": {},
   "outputs": [
    {
     "name": "stdout",
     "output_type": "stream",
     "text": [
      "{'Tuna': 1, 'Cod': 1, 'Mackerel': 1, 'Snapper': 1, 'Sardine': 1, 'Salmon': 1}\n"
     ]
    }
   ],
   "source": [
    "# ให้ทำการนับจำนวนสายพันธ์ปลาภายใน dict นี้\n",
    "count_dct = {}\n",
    "for value in marine_fish:\n",
    "    if count_dct.get(value):\n",
    "        count_dict[value] += 1\n",
    "    else:\n",
    "        count_dct[value] = 1\n",
    "\n",
    "print(count_dct)"
   ]
  },
  {
   "cell_type": "code",
   "execution_count": null,
   "id": "7e279ab6-ee2e-4f60-9add-a2240f100b9d",
   "metadata": {},
   "outputs": [],
   "source": []
  }
 ],
 "metadata": {
  "kernelspec": {
   "display_name": "Python 3 (ipykernel)",
   "language": "python",
   "name": "python3"
  },
  "language_info": {
   "codemirror_mode": {
    "name": "ipython",
    "version": 3
   },
   "file_extension": ".py",
   "mimetype": "text/x-python",
   "name": "python",
   "nbconvert_exporter": "python",
   "pygments_lexer": "ipython3",
   "version": "3.13.0"
  }
 },
 "nbformat": 4,
 "nbformat_minor": 5
}
