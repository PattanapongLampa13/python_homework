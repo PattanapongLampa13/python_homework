{
 "cells": [
  {
   "cell_type": "code",
   "execution_count": 13,
   "id": "12af02be-6f14-4032-a45c-a68e60f98b62",
   "metadata": {},
   "outputs": [],
   "source": [
    "# def dog():\n",
    "\n",
    "class MyDog():\n",
    "    # constructor\n",
    "    def __init__(self, gene, name, age, sex, color):\n",
    "        self.gene = gene\n",
    "        self.name = name\n",
    "        self.age = age\n",
    "        self.sex = sex\n",
    "        self.color = color\n",
    "    def sleep(self):\n",
    "        print(\"{} ZzzzzzZzzzz !\" .format(self.name))\n",
    "    \n",
    "    def walk(self):\n",
    "        print(\"{} Walking Around\" .format(self.name))\n",
    "    \n",
    "    def eat(self):\n",
    "        print(\"{} Yummyyyyy\" .format(self.name))"
   ]
  },
  {
   "cell_type": "code",
   "execution_count": 14,
   "id": "567b03e7-c91a-4220-8b59-ea29c94f95f6",
   "metadata": {},
   "outputs": [],
   "source": [
    "# instance variable\n",
    "germanshepherd = MyDog('German Shepherd', 'johnny', 2, 'male', 'tan&black')\n",
    "siberianhusky = MyDog('Siberian Husky', 'mina', 1, 'female', 'black&white')"
   ]
  },
  {
   "cell_type": "code",
   "execution_count": 15,
   "id": "98c3e13a-df6d-4269-89ab-f869889afae6",
   "metadata": {},
   "outputs": [
    {
     "name": "stdout",
     "output_type": "stream",
     "text": [
      "johnny ZzzzzzZzzzz !\n"
     ]
    }
   ],
   "source": [
    "germanshepherd.sleep()"
   ]
  },
  {
   "cell_type": "code",
   "execution_count": 2,
   "id": "3aeca607-017e-4fed-a2bb-75228e4b6928",
   "metadata": {},
   "outputs": [],
   "source": [
    "class Cat():\n",
    "    def __init__(self, name):\n",
    "        self.name = name\n",
    "\n",
    "    def eat(self):\n",
    "        print(\"{} is eating\".format(self.name))\n",
    "\n",
    "    def sleep(self):\n",
    "        print(\"{} is sleeping\".format(self.name))"
   ]
  },
  {
   "cell_type": "code",
   "execution_count": 4,
   "id": "1d2bdea0-c972-4194-b935-252338f33fe8",
   "metadata": {},
   "outputs": [],
   "source": [
    "cat = Cat(\"Lume\")"
   ]
  },
  {
   "cell_type": "code",
   "execution_count": 5,
   "id": "de73ec22-d694-48d9-9f19-4d7aaea0b649",
   "metadata": {},
   "outputs": [
    {
     "name": "stdout",
     "output_type": "stream",
     "text": [
      "Lume is eating\n"
     ]
    }
   ],
   "source": [
    "cat.eat()"
   ]
  },
  {
   "cell_type": "code",
   "execution_count": 21,
   "id": "29cf78d6-275c-4903-b900-e9f5ac644377",
   "metadata": {},
   "outputs": [],
   "source": [
    "class Student():\n",
    "    def __init__(self, name, stid, age):\n",
    "        self.name = name\n",
    "        self.stid = stid\n",
    "        self.age = age\n",
    "    \n",
    "    def setAge(self, new_age):\n",
    "        if newage > self.__age:\n",
    "            self.__age = new_age\n",
    "        else:\n",
    "            print(\"Error\")\n",
    "    \n",
    "    def studentInfo(self):\n",
    "        print(\"{} : {} , age {}.\".format(self.__stid, self.__name, self.__age))"
   ]
  },
  {
   "cell_type": "code",
   "execution_count": 23,
   "id": "cc7a1cbf-2297-47a1-a139-6122a9903ccc",
   "metadata": {},
   "outputs": [],
   "source": [
    "johnny = Student('Johnny', '0077', 20)"
   ]
  },
  {
   "cell_type": "code",
   "execution_count": null,
   "id": "a57e5c17-61f0-4fc6-b923-15299724735c",
   "metadata": {},
   "outputs": [],
   "source": [
    "johnny.getAge()"
   ]
  },
  {
   "cell_type": "code",
   "execution_count": 22,
   "id": "1d636adf-7455-43ac-b722-ce1a82e8ff0c",
   "metadata": {},
   "outputs": [
    {
     "name": "stdout",
     "output_type": "stream",
     "text": [
      "2077 : Johnny , age 20.\n"
     ]
    }
   ],
   "source": [
    "johnny.studentInfo()"
   ]
  },
  {
   "cell_type": "code",
   "execution_count": 11,
   "id": "d83d0d84-6421-4fa4-a7e7-8a2edec35ccb",
   "metadata": {},
   "outputs": [
    {
     "data": {
      "text/plain": [
       "20"
      ]
     },
     "execution_count": 11,
     "metadata": {},
     "output_type": "execute_result"
    }
   ],
   "source": [
    "johnny.age"
   ]
  },
  {
   "cell_type": "code",
   "execution_count": 14,
   "id": "9c6fbcad-deb5-4726-a92f-2270cebfd9ec",
   "metadata": {},
   "outputs": [
    {
     "ename": "AttributeError",
     "evalue": "'Student' object has no attribute '__age'",
     "output_type": "error",
     "traceback": [
      "\u001b[1;31m---------------------------------------------------------------------------\u001b[0m",
      "\u001b[1;31mAttributeError\u001b[0m                            Traceback (most recent call last)",
      "Cell \u001b[1;32mIn[14], line 1\u001b[0m\n\u001b[1;32m----> 1\u001b[0m \u001b[38;5;28mprint\u001b[39m(\u001b[43mjohnny\u001b[49m\u001b[38;5;241;43m.\u001b[39;49m\u001b[43m__age\u001b[49m)\n",
      "\u001b[1;31mAttributeError\u001b[0m: 'Student' object has no attribute '__age'"
     ]
    }
   ],
   "source": [
    "print(johnny.__age)"
   ]
  },
  {
   "cell_type": "code",
   "execution_count": null,
   "id": "c89b0b14-8ed6-4879-9086-87ebee9d25df",
   "metadata": {},
   "outputs": [],
   "source": [
    "# Encapsuletion\n",
    "# method"
   ]
  }
 ],
 "metadata": {
  "kernelspec": {
   "display_name": "Python 3 (ipykernel)",
   "language": "python",
   "name": "python3"
  },
  "language_info": {
   "codemirror_mode": {
    "name": "ipython",
    "version": 3
   },
   "file_extension": ".py",
   "mimetype": "text/x-python",
   "name": "python",
   "nbconvert_exporter": "python",
   "pygments_lexer": "ipython3",
   "version": "3.13.0"
  }
 },
 "nbformat": 4,
 "nbformat_minor": 5
}
