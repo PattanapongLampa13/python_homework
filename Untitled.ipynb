{
 "cells": [
  {
   "cell_type": "code",
   "execution_count": 3,
   "id": "88a294bd-bc3d-49d7-99da-11e13fc553df",
   "metadata": {},
   "outputs": [],
   "source": [
    "class Calculator():\n",
    "    def __init__(self):\n",
    "        pass\n",
    "    \n",
    "    def add(self, x, y):\n",
    "        return x + y\n",
    "    \n",
    "    def sub(self, x, y):\n",
    "        return x - y\n",
    "    \n",
    "    def div(self, x, y):\n",
    "        return x / y\n",
    "    \n",
    "    def mul(self, x, y):\n",
    "        return x * y"
   ]
  },
  {
   "cell_type": "code",
   "execution_count": 9,
   "id": "e5ace317-d552-4b17-b8b3-fbdfa9c2d94e",
   "metadata": {},
   "outputs": [],
   "source": [
    "class ScienceCal(Calculator):\n",
    "    def __init__(self):\n",
    "        pass\n",
    "    def sqrt(self, x):"
   ]
  },
  {
   "cell_type": "code",
   "execution_count": 12,
   "id": "3f7d7965-0881-455b-811f-c795e049a507",
   "metadata": {},
   "outputs": [],
   "source": [
    "ori_cal = Calculator()\n",
    "new_cal = ScienceCal()"
   ]
  },
  {
   "cell_type": "code",
   "execution_count": 11,
   "id": "19f3354a-ee14-4479-b2f9-b4df3509257b",
   "metadata": {},
   "outputs": [
    {
     "data": {
      "text/plain": [
       "3"
      ]
     },
     "execution_count": 11,
     "metadata": {},
     "output_type": "execute_result"
    }
   ],
   "source": [
    "cal.add(1, 2)"
   ]
  },
  {
   "cell_type": "code",
   "execution_count": null,
   "id": "c5e66668-e33e-4b0c-bed6-101e337311cb",
   "metadata": {},
   "outputs": [],
   "source": []
  }
 ],
 "metadata": {
  "kernelspec": {
   "display_name": "Python 3 (ipykernel)",
   "language": "python",
   "name": "python3"
  },
  "language_info": {
   "codemirror_mode": {
    "name": "ipython",
    "version": 3
   },
   "file_extension": ".py",
   "mimetype": "text/x-python",
   "name": "python",
   "nbconvert_exporter": "python",
   "pygments_lexer": "ipython3",
   "version": "3.13.0"
  }
 },
 "nbformat": 4,
 "nbformat_minor": 5
}
