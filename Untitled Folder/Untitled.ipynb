{
 "cells": [
  {
   "cell_type": "code",
   "execution_count": 8,
   "id": "2f8a0644-01ad-474d-85b3-8e9d44153417",
   "metadata": {},
   "outputs": [
    {
     "data": {
      "text/plain": [
       "32.75"
      ]
     },
     "execution_count": 8,
     "metadata": {},
     "output_type": "execute_result"
    }
   ],
   "source": [
    "10/8*7+3*4+12"
   ]
  },
  {
   "cell_type": "code",
   "execution_count": 13,
   "id": "7fa2ccc3-5385-4097-827a-6bf34be6d9a7",
   "metadata": {},
   "outputs": [
    {
     "data": {
      "text/plain": [
       "7.0"
      ]
     },
     "execution_count": 13,
     "metadata": {},
     "output_type": "execute_result"
    }
   ],
   "source": [
    "(2 * 10 % 3)+(10 / 2)"
   ]
  },
  {
   "cell_type": "code",
   "execution_count": 15,
   "id": "c19c05c8-a8a9-4811-83cb-1d5906122180",
   "metadata": {},
   "outputs": [
    {
     "data": {
      "text/plain": [
       "26"
      ]
     },
     "execution_count": 15,
     "metadata": {},
     "output_type": "execute_result"
    }
   ],
   "source": [
    "10 * 2 + 1 +3 + 10 % 4"
   ]
  },
  {
   "cell_type": "code",
   "execution_count": null,
   "id": "da5bcf6f-8dc3-4174-894c-d9f62fcc0de9",
   "metadata": {},
   "outputs": [],
   "source": []
  }
 ],
 "metadata": {
  "kernelspec": {
   "display_name": "Python 3 (ipykernel)",
   "language": "python",
   "name": "python3"
  },
  "language_info": {
   "codemirror_mode": {
    "name": "ipython",
    "version": 3
   },
   "file_extension": ".py",
   "mimetype": "text/x-python",
   "name": "python",
   "nbconvert_exporter": "python",
   "pygments_lexer": "ipython3",
   "version": "3.13.0"
  }
 },
 "nbformat": 4,
 "nbformat_minor": 5
}
