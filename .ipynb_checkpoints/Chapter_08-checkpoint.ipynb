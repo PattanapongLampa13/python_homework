{
 "cells": [
  {
   "cell_type": "markdown",
   "metadata": {},
   "source": [
    "# แบบฝึกหัด บทที่ 8 ฟังก์ชัน"
   ]
  },
  {
   "cell_type": "code",
   "execution_count": null,
   "metadata": {},
   "outputs": [],
   "source": [
    "\"\"\"\n",
    "ชื่อ - สกุล - รหัส\n",
    "นาย พัฒนพงศ์ ลำภา 6712732113\n",
    "\n",
    "\"\"\""
   ]
  },
  {
   "cell_type": "markdown",
   "metadata": {},
   "source": [
    "## 1.จงเขียนฟังก์ชันเพื่อหาผลรวมของข้อมูลสมาชิกภายในลิสต์ เช่น"
   ]
  },
  {
   "cell_type": "code",
   "execution_count": 8,
   "metadata": {},
   "outputs": [
    {
     "name": "stdout",
     "output_type": "stream",
     "text": [
      "Expected Output: 20\n"
     ]
    }
   ],
   "source": [
    "\"\"\"\n",
    "Sample List: (8, 2, 3, 0, 7)\n",
    "Expected Output: 20\n",
    "\"\"\"\n",
    "\n",
    "\"\"\"\n",
    "คำตอบ\n",
    "\"\"\"\n",
    "sample_list = [8, 2, 3, 0, 7]\n",
    "def sum_list(numbers):\n",
    "    total = 0\n",
    "    for num in numbers:\n",
    "        total += num\n",
    "    return total\n",
    "sample_list = [8, 2, 3, 0, 7]\n",
    "result = sum_list(sample_list)\n",
    "print(\"Expected Output:\", result)\n"
   ]
  },
  {
   "cell_type": "markdown",
   "metadata": {},
   "source": [
    "## 2.จงเขียนโปรแกรมเพื่อให้ได้ผลลัพธ์ดังต่อไปนี้\n",
    "\n",
    "จงเขียนฟังก์ชันที่ทำหน้าที่กลับสตริงจากหน้าเป็นหลัง \n",
    "\n",
    "โดยมีการส่งอาร์กิวเมนต์ที่เป็นสติงไปให้ฟังก์ชันทำงาน เช่น"
   ]
  },
  {
   "cell_type": "code",
   "execution_count": 2,
   "metadata": {},
   "outputs": [
    {
     "name": "stdout",
     "output_type": "stream",
     "text": [
      "dcba4321\n"
     ]
    }
   ],
   "source": [
    "\"\"\"\n",
    "Argument String: \"1234abcd\"\n",
    "Expected Output: \"dcba4321\"\n",
    "\"\"\"\n",
    "\n",
    "\"\"\"\n",
    "คำตอบ\n",
    "\"\"\"\n",
    "\n",
    "def reverseStr(instr):\n",
    "    print(\"{}\".format(instr[::-1]))\n",
    "\n",
    "a = \"1234abcd\"\n",
    "reverseStr(a)"
   ]
  },
  {
   "cell_type": "code",
   "execution_count": 9,
   "metadata": {},
   "outputs": [
    {
     "name": "stdout",
     "output_type": "stream",
     "text": [
      "dcba4321\n"
     ]
    }
   ],
   "source": [
    "def reverseStr(instr):\n",
    "    print(\"{}\".format(instr[::-1]))\n",
    "\n",
    "a = \"1234abcd\"\n",
    "reverseStr(a)"
   ]
  },
  {
   "cell_type": "markdown",
   "metadata": {},
   "source": [
    "## 3.จงเขียนโปรแกรมเพื่อให้ได้ผลลัพธ์ดังต่อไปนี้\n",
    "\n",
    "จงเขียนฟังก์ชันที่ทำหน้าที่สำหรับการตรวจสอบค่าซ้ำของข้อมูลสมาชิกภายในลิสต์ \n",
    "\n",
    "โดยการส่งอาร์กิวเมนต์ที่เป็นลิสต์ไปให้ฟังก์ชันทำงาน และฟังก์ชันจะทำการส่งผลลัพธ์ได้จากการดำเนินการออกมา เช่น\n",
    "\n",
    "Argument List: [1,2,3,3,3,3,4,5]\n",
    "\n",
    "Output List: [1, 2, 3, 4, 5]\n",
    "\n",
    "หรือ \n",
    "\n",
    "Argument List: [‘a’, ‘b’, ‘c’, ‘c’, ‘c’, ‘a’, ‘d’, ‘e’, ‘e’]\n",
    "\n",
    "Output List: [‘a’, ‘b’, ‘c’, ‘d’, ‘e’]\n"
   ]
  },
  {
   "cell_type": "code",
   "execution_count": 14,
   "metadata": {},
   "outputs": [
    {
     "name": "stdout",
     "output_type": "stream",
     "text": [
      "Output List: [1, 2, 3, 4, 5]\n",
      "Output List: ['a', 'd', 'c', 'b', 'e']\n"
     ]
    }
   ],
   "source": [
    "\"\"\"\n",
    "คำตอบ\n",
    "\"\"\"\n",
    "def remove_duplicates(input_list):\n",
    "    return list(set(input_list))\n",
    "\n",
    "\n",
    "argument_list1 = [1, 2, 3, 3, 3, 3, 4, 5]\n",
    "output_list1 = remove_duplicates(argument_list1)\n",
    "print(\"Output List:\", output_list1)\n",
    "\n",
    "argument_list2 = ['a', 'b', 'c', 'c', 'c', 'a', 'd', 'e', 'e']\n",
    "output_list2 = remove_duplicates(argument_list2)\n",
    "print(\"Output List:\", output_list2)"
   ]
  },
  {
   "cell_type": "markdown",
   "metadata": {},
   "source": [
    "## 4.\tจงเขียนโปรแกรมเพื่อให้ได้ผลลัพธ์ดังต่อไปนี้ \n",
    "\n",
    "จงเขียนฟังก์ชันซึ่งรับค่าอาร์กิวเมนต์ที่เป็นจำนวนเต็ม และทำการเช็คว่าค่าที่รับมา   \n",
    "\n",
    "เป็นจำนวนเฉพาะหรือไม่ ถ้าใช่จำนวนเฉพาะให้ส่งคืนค่า True ออกมาและถ้าไม่ให้คืนค่า False"
   ]
  },
  {
   "cell_type": "code",
   "execution_count": 18,
   "metadata": {},
   "outputs": [
    {
     "name": "stdout",
     "output_type": "stream",
     "text": [
      "True\n",
      "False\n",
      "True\n",
      "False\n",
      "False\n"
     ]
    }
   ],
   "source": [
    "\"\"\"\n",
    "คำตอบ\n",
    "\"\"\"\n",
    "def is_prime(number):\n",
    "    if number <= 1:  \n",
    "        return False\n",
    "    for i in range(2, int(number**0.5) + 1): \n",
    "        if number % i == 0:\n",
    "            return False\n",
    "    return True\n",
    "\n",
    "print(is_prime(2))   \n",
    "print(is_prime(4))   \n",
    "print(is_prime(17))  \n",
    "print(is_prime(1))   \n",
    "print(is_prime(0))\n",
    "\n"
   ]
  },
  {
   "cell_type": "markdown",
   "metadata": {},
   "source": [
    "## 5. จงเขียนโปรแกรมเพื่อให้ได้ผลลัพธ์ดังต่อไปนี้ \n",
    "\n",
    "จงเขียนฟังก์ชันที่รับอาร์กิวเมนต์ที่เป็นสตริง ที่มีลักษณะเป็นคำผสมซึ่งเชื่อมด้วยเครื่องหมายยัติภังค์ ( - ) เมื่อฟังก์ชันรับค่าอาร์กิวเมนต์มาแล้วจะทำการสลับลำดับของคำใหม่      \n",
    "โดยเรียงลำดับตามตัวอักษร และส่งคืนค่าผลลัพธ์กลับคืนมาดังตัวอย่าง\n",
    "\n",
    "Argument : green-red-yellow-black-white\n",
    "\n",
    "Result : black-green-red-white-yellow\n"
   ]
  },
  {
   "cell_type": "code",
   "execution_count": 2,
   "metadata": {},
   "outputs": [
    {
     "ename": "NameError",
     "evalue": "name 'sort_hyphenated_string' is not defined",
     "output_type": "error",
     "traceback": [
      "\u001b[1;31m---------------------------------------------------------------------------\u001b[0m",
      "\u001b[1;31mNameError\u001b[0m                                 Traceback (most recent call last)",
      "Cell \u001b[1;32mIn[2], line 12\u001b[0m\n\u001b[0;32m      8\u001b[0m     \u001b[38;5;28;01mreturn\u001b[39;00m \u001b[38;5;124m'\u001b[39m\u001b[38;5;124m-\u001b[39m\u001b[38;5;124m'\u001b[39m\u001b[38;5;241m.\u001b[39mjoin(words)  \n\u001b[0;32m     11\u001b[0m argument \u001b[38;5;241m=\u001b[39m \u001b[38;5;124m\"\u001b[39m\u001b[38;5;124mgreen-red-yellow-black-white\u001b[39m\u001b[38;5;124m\"\u001b[39m\n\u001b[1;32m---> 12\u001b[0m result \u001b[38;5;241m=\u001b[39m \u001b[43msort_hyphenated_string\u001b[49m(argument)\n\u001b[0;32m     13\u001b[0m \u001b[38;5;28mprint\u001b[39m(\u001b[38;5;124m\"\u001b[39m\u001b[38;5;124mResult:\u001b[39m\u001b[38;5;124m\"\u001b[39m, result)\n",
      "\u001b[1;31mNameError\u001b[0m: name 'sort_hyphenated_string' is not defined"
     ]
    }
   ],
   "source": [
    "\"\"\"\n",
    "คำตอบ\n",
    "\"\"\"\n",
    "\n",
    "def mr_yaimakmak(input_string):\n",
    "    words = input_string.split('-')  \n",
    "    words.sort()  \n",
    "    return '-'.join(words)  \n",
    "\n",
    "\n",
    "argument = \"green-red-yellow-black-white\"\n",
    "result = sort_hyphenated_string(argument)\n",
    "print(\"Result:\", result)"
   ]
  },
  {
   "cell_type": "markdown",
   "metadata": {},
   "source": [
    "## 6.จงเขียนโปรแกรมเพื่อให้ได้ผลลัพธ์ดังต่อไปนี้\n",
    "\n",
    "จงเขียนฟังก์ชันที่ทำการรับสตริงภาษาอังกฤษทางอาร์กิวเมนต์ และทำการนับจำนวนตัวอักษรที่เป็นตัวใหญ่ และตัวเล็ก และทำการแสดงจำนวนออกมา เช่น\n",
    "\n",
    "Input String: 'The quick Brow Fox'\n",
    "\n",
    "Expected Output: \n",
    "\n",
    "No. of Upper case characters: 3\n",
    "\n",
    "No. of Lower case Characters: 12"
   ]
  },
  {
   "cell_type": "code",
   "execution_count": 16,
   "metadata": {},
   "outputs": [
    {
     "name": "stdout",
     "output_type": "stream",
     "text": [
      "No. of Upper case characters: 3\n",
      "No. of Lower case Characters: 12\n"
     ]
    }
   ],
   "source": [
    "\"\"\"\n",
    "คำตอบ\n",
    "\"\"\"\n",
    "def count_case(input_string):\n",
    "    upper_count = sum(1 for char in input_string if char.isupper())  \n",
    "    lower_count = sum(1 for char in input_string if char.islower())  \n",
    "    print(\"No. of Upper case characters:\", upper_count)\n",
    "    print(\"No. of Lower case Characters:\", lower_count)\n",
    "\n",
    "\n",
    "input_string = 'The quick Brow Fox'\n",
    "count_case(input_string)\n"
   ]
  },
  {
   "cell_type": "markdown",
   "metadata": {},
   "source": [
    "## 7.จงเขียนโปรแกรมเพื่อให้ได้ผลลัพธ์ดังต่อไปนี้\n",
    "\n",
    "จงเขียนฟังก์ชันที่รับตัวเลขซึ่งเป็นจำนวนนาที \n",
    "\n",
    "และทำการคำนวณเพื่อแสดงผลในรูปแบบ ชั่วโมง : นาที"
   ]
  },
  {
   "cell_type": "code",
   "execution_count": 15,
   "metadata": {},
   "outputs": [
    {
     "name": "stdout",
     "output_type": "stream",
     "text": [
      "2:15\n",
      "0:50\n",
      "0:00\n"
     ]
    }
   ],
   "source": [
    "\"\"\"\n",
    "คำตอบ\n",
    "\"\"\"\n",
    "def convert_minutes_to_hours(minutes):\n",
    "    hours = minutes // 60  \n",
    "    remaining_minutes = minutes % 60 \n",
    "    return f\"{hours}:{remaining_minutes:02d}\" \n",
    "\n",
    "\n",
    "print(convert_minutes_to_hours(135))  \n",
    "print(convert_minutes_to_hours(50))   \n",
    "print(convert_minutes_to_hours(0))"
   ]
  },
  {
   "cell_type": "code",
   "execution_count": null,
   "metadata": {},
   "outputs": [],
   "source": []
  }
 ],
 "metadata": {
  "interpreter": {
   "hash": "40d3a090f54c6569ab1632332b64b2c03c39dcf918b08424e98f38b5ae0af88f"
  },
  "kernelspec": {
   "display_name": "Python 3 (ipykernel)",
   "language": "python",
   "name": "python3"
  },
  "language_info": {
   "codemirror_mode": {
    "name": "ipython",
    "version": 3
   },
   "file_extension": ".py",
   "mimetype": "text/x-python",
   "name": "python",
   "nbconvert_exporter": "python",
   "pygments_lexer": "ipython3",
   "version": "3.13.0"
  }
 },
 "nbformat": 4,
 "nbformat_minor": 4
}
